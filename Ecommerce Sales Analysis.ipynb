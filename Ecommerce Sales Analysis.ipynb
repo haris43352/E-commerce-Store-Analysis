{
 "cells": [
  {
   "cell_type": "code",
   "execution_count": 2,
   "id": "e7b2ec38-4a7e-42fc-bfd4-32263e0c40ca",
   "metadata": {},
   "outputs": [],
   "source": [
    "import pandas as pd"
   ]
  },
  {
   "cell_type": "code",
   "execution_count": 4,
   "id": "3130be97-7cd2-44ae-8246-503d5713d0ea",
   "metadata": {},
   "outputs": [],
   "source": [
    "df= pd.read_csv(\"Ecommerce_Sales_Dataset.csv\")"
   ]
  },
  {
   "cell_type": "code",
   "execution_count": 5,
   "id": "105bdd15-3434-44e4-91e5-542262b91511",
   "metadata": {},
   "outputs": [
    {
     "data": {
      "text/html": [
       "<div>\n",
       "<style scoped>\n",
       "    .dataframe tbody tr th:only-of-type {\n",
       "        vertical-align: middle;\n",
       "    }\n",
       "\n",
       "    .dataframe tbody tr th {\n",
       "        vertical-align: top;\n",
       "    }\n",
       "\n",
       "    .dataframe thead th {\n",
       "        text-align: right;\n",
       "    }\n",
       "</style>\n",
       "<table border=\"1\" class=\"dataframe\">\n",
       "  <thead>\n",
       "    <tr style=\"text-align: right;\">\n",
       "      <th></th>\n",
       "      <th>Transaction_ID</th>\n",
       "      <th>Customer_ID</th>\n",
       "      <th>Transaction_Date</th>\n",
       "      <th>Region</th>\n",
       "      <th>Product_Category</th>\n",
       "      <th>Product_Name</th>\n",
       "      <th>Quantity</th>\n",
       "      <th>Unit_Price</th>\n",
       "      <th>Discount (%)</th>\n",
       "      <th>Total_Sale</th>\n",
       "      <th>Payment_Method</th>\n",
       "      <th>Repeat_Customer</th>\n",
       "    </tr>\n",
       "  </thead>\n",
       "  <tbody>\n",
       "    <tr>\n",
       "      <th>0</th>\n",
       "      <td>e3e70682-c209-4cac-a29f-6fbed82c07cd</td>\n",
       "      <td>f728b4fa-4248-4e3a-8a5d-2f346baa9455</td>\n",
       "      <td>2024-07-01</td>\n",
       "      <td>West</td>\n",
       "      <td>Home Decor</td>\n",
       "      <td>Home Decor Product 2</td>\n",
       "      <td>3</td>\n",
       "      <td>4288</td>\n",
       "      <td>15</td>\n",
       "      <td>10934.4</td>\n",
       "      <td>UPI</td>\n",
       "      <td>No</td>\n",
       "    </tr>\n",
       "    <tr>\n",
       "      <th>1</th>\n",
       "      <td>c8a70639-eb11-47b3-a7a9-c3787c65c1e5</td>\n",
       "      <td>7a024204-f7c1-4d87-8da5-e709d4713d60</td>\n",
       "      <td>2024-05-03</td>\n",
       "      <td>West</td>\n",
       "      <td>Grocery</td>\n",
       "      <td>Grocery Product 19</td>\n",
       "      <td>2</td>\n",
       "      <td>4234</td>\n",
       "      <td>5</td>\n",
       "      <td>8044.6</td>\n",
       "      <td>Cash</td>\n",
       "      <td>Yes</td>\n",
       "    </tr>\n",
       "    <tr>\n",
       "      <th>2</th>\n",
       "      <td>37ebdcd9-e87a-4613-a443-df789558867f</td>\n",
       "      <td>23c6612f-4826-4673-a3a7-711a81332876</td>\n",
       "      <td>2024-10-04</td>\n",
       "      <td>North</td>\n",
       "      <td>Books</td>\n",
       "      <td>Books Product 9</td>\n",
       "      <td>5</td>\n",
       "      <td>1303</td>\n",
       "      <td>10</td>\n",
       "      <td>5863.5</td>\n",
       "      <td>Credit Card</td>\n",
       "      <td>Yes</td>\n",
       "    </tr>\n",
       "    <tr>\n",
       "      <th>3</th>\n",
       "      <td>40212ef7-cca5-45a1-9e4d-6e3c1846d424</td>\n",
       "      <td>fb97d435-8856-4712-a8e5-216afcbd04c3</td>\n",
       "      <td>2024-09-14</td>\n",
       "      <td>East</td>\n",
       "      <td>Home Decor</td>\n",
       "      <td>Home Decor Product 18</td>\n",
       "      <td>1</td>\n",
       "      <td>2998</td>\n",
       "      <td>15</td>\n",
       "      <td>2548.3</td>\n",
       "      <td>Cash</td>\n",
       "      <td>Yes</td>\n",
       "    </tr>\n",
       "    <tr>\n",
       "      <th>4</th>\n",
       "      <td>259f4329-e6f4-490b-9a16-4106cf6a659e</td>\n",
       "      <td>12e0c8b2-bad6-40fb-9948-8dec4f65d4d9</td>\n",
       "      <td>2024-11-29</td>\n",
       "      <td>West</td>\n",
       "      <td>Home Decor</td>\n",
       "      <td>Home Decor Product 17</td>\n",
       "      <td>3</td>\n",
       "      <td>610</td>\n",
       "      <td>20</td>\n",
       "      <td>1464.0</td>\n",
       "      <td>Credit Card</td>\n",
       "      <td>Yes</td>\n",
       "    </tr>\n",
       "  </tbody>\n",
       "</table>\n",
       "</div>"
      ],
      "text/plain": [
       "                         Transaction_ID                           Customer_ID  \\\n",
       "0  e3e70682-c209-4cac-a29f-6fbed82c07cd  f728b4fa-4248-4e3a-8a5d-2f346baa9455   \n",
       "1  c8a70639-eb11-47b3-a7a9-c3787c65c1e5  7a024204-f7c1-4d87-8da5-e709d4713d60   \n",
       "2  37ebdcd9-e87a-4613-a443-df789558867f  23c6612f-4826-4673-a3a7-711a81332876   \n",
       "3  40212ef7-cca5-45a1-9e4d-6e3c1846d424  fb97d435-8856-4712-a8e5-216afcbd04c3   \n",
       "4  259f4329-e6f4-490b-9a16-4106cf6a659e  12e0c8b2-bad6-40fb-9948-8dec4f65d4d9   \n",
       "\n",
       "  Transaction_Date Region Product_Category           Product_Name  Quantity  \\\n",
       "0       2024-07-01   West       Home Decor   Home Decor Product 2         3   \n",
       "1       2024-05-03   West          Grocery     Grocery Product 19         2   \n",
       "2       2024-10-04  North            Books        Books Product 9         5   \n",
       "3       2024-09-14   East       Home Decor  Home Decor Product 18         1   \n",
       "4       2024-11-29   West       Home Decor  Home Decor Product 17         3   \n",
       "\n",
       "   Unit_Price  Discount (%)  Total_Sale Payment_Method Repeat_Customer  \n",
       "0        4288            15     10934.4            UPI              No  \n",
       "1        4234             5      8044.6           Cash             Yes  \n",
       "2        1303            10      5863.5    Credit Card             Yes  \n",
       "3        2998            15      2548.3           Cash             Yes  \n",
       "4         610            20      1464.0    Credit Card             Yes  "
      ]
     },
     "execution_count": 5,
     "metadata": {},
     "output_type": "execute_result"
    }
   ],
   "source": [
    "df.head()"
   ]
  },
  {
   "cell_type": "code",
   "execution_count": 7,
   "id": "455134d6-d8db-47cf-a2ee-c7140759e960",
   "metadata": {},
   "outputs": [
    {
     "data": {
      "text/plain": [
       "(500, 12)"
      ]
     },
     "execution_count": 7,
     "metadata": {},
     "output_type": "execute_result"
    }
   ],
   "source": [
    "df.shape"
   ]
  },
  {
   "cell_type": "code",
   "execution_count": 8,
   "id": "fbe98c12-c103-439f-bf08-f26bea19b18e",
   "metadata": {},
   "outputs": [],
   "source": [
    "missing_value=df.isnull()"
   ]
  },
  {
   "cell_type": "code",
   "execution_count": 16,
   "id": "e2ecacb4-942a-4c20-a870-30bbbf0db325",
   "metadata": {},
   "outputs": [
    {
     "name": "stdout",
     "output_type": "stream",
     "text": [
      "Transaction_ID\n",
      "False    500\n",
      "Name: count, dtype: int64\n",
      "Customer_ID\n",
      "False    500\n",
      "Name: count, dtype: int64\n",
      "Transaction_Date\n",
      "False    500\n",
      "Name: count, dtype: int64\n",
      "Region\n",
      "False    500\n",
      "Name: count, dtype: int64\n",
      "Product_Category\n",
      "False    500\n",
      "Name: count, dtype: int64\n",
      "Product_Name\n",
      "False    500\n",
      "Name: count, dtype: int64\n",
      "Quantity\n",
      "False    500\n",
      "Name: count, dtype: int64\n",
      "Unit_Price\n",
      "False    500\n",
      "Name: count, dtype: int64\n",
      "Discount (%)\n",
      "False    500\n",
      "Name: count, dtype: int64\n",
      "Total_Sale\n",
      "False    500\n",
      "Name: count, dtype: int64\n",
      "Payment_Method\n",
      "False    500\n",
      "Name: count, dtype: int64\n",
      "Repeat_Customer\n",
      "False    500\n",
      "Name: count, dtype: int64\n"
     ]
    }
   ],
   "source": [
    "for column in missing_value:\n",
    "    print(missing_value[column].value_counts())"
   ]
  },
  {
   "cell_type": "code",
   "execution_count": 18,
   "id": "64f66aef-9668-4de4-bc43-d42eb0c6540e",
   "metadata": {},
   "outputs": [
    {
     "data": {
      "text/plain": [
       "Transaction_ID       object\n",
       "Customer_ID          object\n",
       "Transaction_Date     object\n",
       "Region               object\n",
       "Product_Category     object\n",
       "Product_Name         object\n",
       "Quantity              int64\n",
       "Unit_Price            int64\n",
       "Discount (%)          int64\n",
       "Total_Sale          float64\n",
       "Payment_Method       object\n",
       "Repeat_Customer      object\n",
       "dtype: object"
      ]
     },
     "execution_count": 18,
     "metadata": {},
     "output_type": "execute_result"
    }
   ],
   "source": [
    "df.dtypes"
   ]
  },
  {
   "cell_type": "code",
   "execution_count": 21,
   "id": "ec305840-f9e1-4dac-a211-eaca7c5d7282",
   "metadata": {},
   "outputs": [
    {
     "name": "stdout",
     "output_type": "stream",
     "text": [
      "<class 'pandas.core.frame.DataFrame'>\n",
      "RangeIndex: 500 entries, 0 to 499\n",
      "Data columns (total 12 columns):\n",
      " #   Column            Non-Null Count  Dtype  \n",
      "---  ------            --------------  -----  \n",
      " 0   Transaction_ID    500 non-null    object \n",
      " 1   Customer_ID       500 non-null    object \n",
      " 2   Transaction_Date  500 non-null    object \n",
      " 3   Region            500 non-null    object \n",
      " 4   Product_Category  500 non-null    object \n",
      " 5   Product_Name      500 non-null    object \n",
      " 6   Quantity          500 non-null    int64  \n",
      " 7   Unit_Price        500 non-null    int64  \n",
      " 8   Discount (%)      500 non-null    int64  \n",
      " 9   Total_Sale        500 non-null    float64\n",
      " 10  Payment_Method    500 non-null    object \n",
      " 11  Repeat_Customer   500 non-null    object \n",
      "dtypes: float64(1), int64(3), object(8)\n",
      "memory usage: 47.0+ KB\n"
     ]
    }
   ],
   "source": [
    "df.info()"
   ]
  },
  {
   "cell_type": "code",
   "execution_count": 28,
   "id": "d7b9dd64-9b02-4f6d-8975-28a6eff60e72",
   "metadata": {},
   "outputs": [
    {
     "data": {
      "text/plain": [
       "<Axes: >"
      ]
     },
     "execution_count": 28,
     "metadata": {},
     "output_type": "execute_result"
    },
    {
     "data": {
      "image/png": "[encoded data removed]",
      "text/plain": [
       "<Figure size 640x480 with 1 Axes>"
      ]
     },
     "metadata": {},
     "output_type": "display_data"
    }
   ],
   "source": [
    "import matplotlib.pyplot as plt\n",
    "df_Quabntity=df.Quantity\n",
    "# pd.plot(kind='boxplot')\n",
    "df_Quabntity.plot(kind='box')"
   ]
  },
  {
   "cell_type": "code",
   "execution_count": 34,
   "id": "90f37979-2675-42a4-afc8-da70ea369aaf",
   "metadata": {},
   "outputs": [],
   "source": [
    "df_unitp=df.Unit_Price"
   ]
  },
  {
   "cell_type": "code",
   "execution_count": 35,
   "id": "379d29be-c671-4396-b066-af5a08f367f6",
   "metadata": {},
   "outputs": [
    {
     "data": {
      "text/plain": [
       "<Axes: >"
      ]
     },
     "execution_count": 35,
     "metadata": {},
     "output_type": "execute_result"
    },
    {
     "data": {
      "image/png": "[encoded data removed]",
      "text/plain": [
       "<Figure size 640x480 with 1 Axes>"
      ]
     },
     "metadata": {},
     "output_type": "display_data"
    }
   ],
   "source": [
    "df_unitp.plot(kind='box')"
   ]
  },
  {
   "cell_type": "code",
   "execution_count": 36,
   "id": "bdbb7806-cd58-4ea4-bfd4-5f4c99e571a2",
   "metadata": {},
   "outputs": [],
   "source": [
    "df_Total_sales=df.Total_Sale"
   ]
  },
  {
   "cell_type": "code",
   "execution_count": 39,
   "id": "7ba8bb3b-cb19-42da-b088-5a08d0bdd32c",
   "metadata": {},
   "outputs": [
    {
     "data": {
      "text/plain": [
       "<Axes: >"
      ]
     },
     "execution_count": 39,
     "metadata": {},
     "output_type": "execute_result"
    },
    {
     "data": {
      "image/png": "[encoded data removed]",
      "text/plain": [
       "<Figure size 640x480 with 1 Axes>"
      ]
     },
     "metadata": {},
     "output_type": "display_data"
    }
   ],
   "source": [
    "df_Total_sales.plot(kind='box')"
   ]
  },
  {
   "cell_type": "code",
   "execution_count": 47,
   "id": "f723adeb-3452-4906-a279-ea06f34e635c",
   "metadata": {},
   "outputs": [],
   "source": [
    "df.rename(columns={\"Discount (%)\":\"Discount\"},inplace=True)"
   ]
  },
  {
   "cell_type": "code",
   "execution_count": 48,
   "id": "4cef0acb-6db9-4f23-9f14-e3fdc76b7afa",
   "metadata": {},
   "outputs": [],
   "source": [
    "df_discount=df.Discount"
   ]
  },
  {
   "cell_type": "code",
   "execution_count": 49,
   "id": "e7672752-cf63-4cb8-91ba-a597c45856bb",
   "metadata": {},
   "outputs": [
    {
     "data": {
      "text/plain": [
       "<Axes: >"
      ]
     },
     "execution_count": 49,
     "metadata": {},
     "output_type": "execute_result"
    },
    {
     "data": {
      "image/png": "[encoded data removed]",
      "text/plain": [
       "<Figure size 640x480 with 1 Axes>"
      ]
     },
     "metadata": {},
     "output_type": "display_data"
    }
   ],
   "source": [
    "df_discount.plot(kind='box')"
   ]
  },
  {
   "cell_type": "markdown",
   "id": "f25da0fc-2bce-4779-958c-38fdc25d884b",
   "metadata": {},
   "source": [
    "'''\n",
    "Dataframe has no missing value and the column has correct data type\n",
    "'Categoricat column' Transaction id,customer_id,Transaction_date,Region,product_category,productName,product_name,repeat_customer\n",
    "'Numerical column' Quantity,Unit price,Discount,Total Sales,\n",
    "''' "
   ]
  },
  {
   "cell_type": "markdown",
   "id": "8811f6c8-1224-450e-ae6b-af755d336e27",
   "metadata": {},
   "source": [
    "# Step 2 EDA\n",
    "handle missing value but we do not have\n",
    "with mean average ,median\n",
    "But i found some outlier in one of the column Name Total_sales\n",
    "Finding why this outlier occur weather it could be discount on some products so result in high amount of total sales \n"
   ]
  },
  {
   "cell_type": "markdown",
   "id": "38d23513-3618-4651-92d0-5d5f1dbc5619",
   "metadata": {},
   "source": [
    "# Step 3 EDA\n",
    "handlind outlier:\n",
    "data nor and stand:\"\"\n",
    "converting categorical data into numerical :Transformation"
   ]
  },
  {
   "cell_type": "code",
   "execution_count": 53,
   "id": "4c307305-f0e4-4586-917d-3d094a0b6014",
   "metadata": {},
   "outputs": [],
   "source": [
    "import pandas as pd\n",
    "# Load the dataset\n",
    "# df = pd.read_csv('Ecommerce_Sales_Dataset.csv')\n",
    "\n",
    "# Clean the dataset\n",
    "df['Transaction_Date'] = pd.to_datetime(df['Transaction_Date']) # changing the date type\n",
    "df['Net_Revenue'] = df['Total_Sale'] - (df['Discount'] / 100) * df['Total_Sale'] # adding new column\n",
    "\n",
    "# Export cleaned data\n",
    "df.to_csv('Cleaned_Ecommerce_Sales.csv', index=False)"
   ]
  },
  {
   "cell_type": "code",
   "execution_count": 54,
   "id": "48e6d4ac-8585-4756-89c0-bb446c0e407c",
   "metadata": {},
   "outputs": [
    {
     "name": "stdout",
     "output_type": "stream",
     "text": [
      "C:\\Users\\Abdullah\n"
     ]
    }
   ],
   "source": [
    "import os\n",
    "print(os.getcwd())"
   ]
  },
  {
   "cell_type": "code",
   "execution_count": null,
   "id": "992155d5-a05c-4e33-9ec6-02fa3afb1c36",
   "metadata": {},
   "outputs": [],
   "source": []
  }
 ],
 "metadata": {
  "kernelspec": {
   "display_name": "Python 3 (ipykernel)",
   "language": "python",
   "name": "python3"
  },
  "language_info": {
   "codemirror_mode": {
    "name": "ipython",
    "version": 3
   },
   "file_extension": ".py",
   "mimetype": "text/x-python",
   "name": "python",
   "nbconvert_exporter": "python",
   "pygments_lexer": "ipython3",
   "version": "3.11.7"
  }
 },
 "nbformat": 4,
 "nbformat_minor": 5
}
